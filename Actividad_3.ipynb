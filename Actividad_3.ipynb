{
 "cells": [
  {
   "cell_type": "markdown",
   "metadata": {},
   "source": [
    "En la siguiente celda, completa los siguientes ejercicios:\n",
    "\n",
    "## Ejercicio 1\n",
    "\n",
    "Escribe una clase llamada Numero. Esta clase debe tener una constructora que reciba un número y almacene ese número en 2 atributos: romano que almacenará el número en el formato de número romanos como una cadena de caracteres y normal que guardará el número que nos han dado en la constructora.\n",
    "\n",
    "## Ejercicio 2\n",
    "Crea dos nuevos métodos en la clase Numero. El primer método, llamado imprime() imprime un mensaje mostrando el valor de ambos atributos; el segundo atributo, suma_romano() tendrá como parámetros una cadena de caracteres que representará otro número romano y que sumaremos a los atributos que ya teníamos.\n",
    "\n",
    "## Ejercicio 3\n",
    "\n",
    "Define una función dentro de la clase Numero que a partir de una cadena de caracteres, devuelve True si esa cadena de caracteres corresponde con un número romano y falso en caso contrario. Después, modifica el método para que lance un error en el caso de que el valor que nos pasan por parámetro no se corresponde con el patrón de un número romano"
   ]
  },
  {
   "cell_type": "code",
   "execution_count": 12,
   "metadata": {},
   "outputs": [],
   "source": [
    "class Numero:\n",
    "    def __init__(self,numero):\n",
    "        self.normal = numero\n",
    "        self.romano = self.numero_to_romano(numero)\n",
    "\n",
    "    def numero_to_romano(self,num):\n",
    "        val = [1000, 900, 500, 400,100, 90, 50, 40,10, 9, 5, 4,1]\n",
    "        syb = [\"M\", \"CM\", \"D\", \"CD\",\"C\", \"XC\", \"L\", \"XL\",\"X\", \"IX\", \"V\", \"IV\",\"I\"]\n",
    "        roman_num = ''\n",
    "        i = 0\n",
    "        while  num > 0:\n",
    "            for _ in range(num // val[i]):\n",
    "                roman_num += syb[i]\n",
    "                num -= val[i]\n",
    "            i += 1\n",
    "        return roman_num\n",
    "    \n",
    "    def romano_to_numero(self,s):\n",
    "        roman = {'I':1,'V':5,'X':10,'L':50,'C':100,'D':500,'M':1000,'IV':4,'IX':9,'XL':40,'XC':90,'CD':400,'CM':900}\n",
    "        i = 0\n",
    "        num = 0\n",
    "        while i < len(s):\n",
    "            if i+1<len(s) and s[i:i+2] in roman:\n",
    "                num+=roman[s[i:i+2]]\n",
    "                i+=2\n",
    "            else:\n",
    "                #print(i)\n",
    "                num+=roman[s[i]]\n",
    "                i+=1\n",
    "        return num\n",
    "    \n",
    "    def imprime(self):\n",
    "        print(self.normal,self.romano)\n",
    "        \n",
    "    def suma_romano(self,num_romano):\n",
    "        num_a_sumar = self.romano_to_numero(num_romano)\n",
    "        suma = num_a_sumar + self.normal"
   ]
  },
  {
   "cell_type": "code",
   "execution_count": 14,
   "metadata": {},
   "outputs": [
    {
     "data": {
      "text/plain": [
       "9"
      ]
     },
     "execution_count": 14,
     "metadata": {},
     "output_type": "execute_result"
    }
   ],
   "source": [
    "Numero(23).romano_to_numero(\"VIIII\")"
   ]
  },
  {
   "cell_type": "markdown",
   "metadata": {},
   "source": [
    "En la siguiente celda, completa los siguientes ejercicios:\n",
    "\n",
    "## Ejercicio 4\n",
    "\n",
    "Implementa una clase MejorNumero. Esta clase heredará las propiedades de Numero e incluirá dos métodos nuevos para restar y multiplicar los atributos recibiendo por parámetro otro número romano.\n",
    "\n",
    "## Ejercicio 5\n",
    "\n",
    "En la clase MejorNumero, crea un nuevo método que reciba una lista con 3 números romanos. A continuación, iterando sobre los elementos de la lista llamará a la función suma_romano(). Los posibles errores se tendrán que gestionar con excepciones para mostrar un mensaje y seguir ejecutando el siguiente número."
   ]
  },
  {
   "cell_type": "code",
   "execution_count": null,
   "metadata": {},
   "outputs": [],
   "source": []
  }
 ],
 "metadata": {
  "kernelspec": {
   "display_name": "Python 3",
   "language": "python",
   "name": "python3"
  },
  "language_info": {
   "codemirror_mode": {
    "name": "ipython",
    "version": 3
   },
   "file_extension": ".py",
   "mimetype": "text/x-python",
   "name": "python",
   "nbconvert_exporter": "python",
   "pygments_lexer": "ipython3",
   "version": "3.7.8"
  },
  "varInspector": {
   "cols": {
    "lenName": 16,
    "lenType": 16,
    "lenVar": 40
   },
   "kernels_config": {
    "python": {
     "delete_cmd_postfix": "",
     "delete_cmd_prefix": "del ",
     "library": "var_list.py",
     "varRefreshCmd": "print(var_dic_list())"
    },
    "r": {
     "delete_cmd_postfix": ") ",
     "delete_cmd_prefix": "rm(",
     "library": "var_list.r",
     "varRefreshCmd": "cat(var_dic_list()) "
    }
   },
   "types_to_exclude": [
    "module",
    "function",
    "builtin_function_or_method",
    "instance",
    "_Feature"
   ],
   "window_display": false
  }
 },
 "nbformat": 4,
 "nbformat_minor": 2
}
